{
 "cells": [
  {
   "cell_type": "code",
   "execution_count": null,
   "metadata": {},
   "outputs": [],
   "source": [
    "Data Cleaning\n",
    "I have now been able to extract the data from the website even though I had some challenges,we can see that it is not cleaned and ready to be analyzed yet. The reviews section will need to be cleaned for punctuations, spellings and other characters."
   ]
  },
  {
   "cell_type": "code",
   "execution_count": 1,
   "metadata": {},
   "outputs": [],
   "source": [
    "#imports\n",
    "\n",
    "import pandas as pd\n",
    "import matplotlib.pyplot as plt\n",
    "import seaborn as sns\n",
    "import os\n",
    "\n",
    "#regex\n",
    "import re"
   ]
  },
  {
   "cell_type": "code",
   "execution_count": 3,
   "metadata": {},
   "outputs": [],
   "source": [
    "#create a dataframe from csv file\n",
    "import os\n",
    "import pandas as pd\n",
    "\n",
    "file_path = \"./BA_reviews.csv\"  \n",
    "\n",
    "if os.path.exists(file_path):\n",
    "    df = pd.read_csv(file_path, index_col=0)\n",
    "else:\n",
    "    print(f\"File not found at {file_path}. Please check the file path.\")\n"
   ]
  },
  {
   "cell_type": "code",
   "execution_count": 4,
   "metadata": {},
   "outputs": [
    {
     "data": {
      "text/html": [
       "<div>\n",
       "<style scoped>\n",
       "    .dataframe tbody tr th:only-of-type {\n",
       "        vertical-align: middle;\n",
       "    }\n",
       "\n",
       "    .dataframe tbody tr th {\n",
       "        vertical-align: top;\n",
       "    }\n",
       "\n",
       "    .dataframe thead th {\n",
       "        text-align: right;\n",
       "    }\n",
       "</style>\n",
       "<table border=\"1\" class=\"dataframe\">\n",
       "  <thead>\n",
       "    <tr style=\"text-align: right;\">\n",
       "      <th></th>\n",
       "      <th>reviews</th>\n",
       "      <th>stars</th>\n",
       "      <th>date</th>\n",
       "      <th>country</th>\n",
       "    </tr>\n",
       "  </thead>\n",
       "  <tbody>\n",
       "    <tr>\n",
       "      <th>0</th>\n",
       "      <td>LHR to PHL on 787 online check in worked well ...</td>\n",
       "      <td>5.0</td>\n",
       "      <td>22nd September 2014</td>\n",
       "      <td>Austria</td>\n",
       "    </tr>\n",
       "    <tr>\n",
       "      <th>1</th>\n",
       "      <td>BHD-LHR. I flew BA from Belfast George Best Ai...</td>\n",
       "      <td>7.0</td>\n",
       "      <td>22nd September 2014</td>\n",
       "      <td>Egypt</td>\n",
       "    </tr>\n",
       "    <tr>\n",
       "      <th>2</th>\n",
       "      <td>Considering our outbound flight to Orlando was...</td>\n",
       "      <td>9.0</td>\n",
       "      <td>22nd September 2014</td>\n",
       "      <td>United Kingdom</td>\n",
       "    </tr>\n",
       "    <tr>\n",
       "      <th>3</th>\n",
       "      <td>LHR-SIN in Economy. Very relaxed and prompt ch...</td>\n",
       "      <td>1.0</td>\n",
       "      <td>22nd September 2014</td>\n",
       "      <td>United Kingdom</td>\n",
       "    </tr>\n",
       "    <tr>\n",
       "      <th>4</th>\n",
       "      <td>LHR-LIS in Club Europe (on Avios). Easy check-...</td>\n",
       "      <td>8.0</td>\n",
       "      <td>18th September 2014</td>\n",
       "      <td>United Kingdom</td>\n",
       "    </tr>\n",
       "  </tbody>\n",
       "</table>\n",
       "</div>"
      ],
      "text/plain": [
       "                                             reviews  stars  \\\n",
       "0  LHR to PHL on 787 online check in worked well ...    5.0   \n",
       "1  BHD-LHR. I flew BA from Belfast George Best Ai...    7.0   \n",
       "2  Considering our outbound flight to Orlando was...    9.0   \n",
       "3  LHR-SIN in Economy. Very relaxed and prompt ch...    1.0   \n",
       "4  LHR-LIS in Club Europe (on Avios). Easy check-...    8.0   \n",
       "\n",
       "                  date         country  \n",
       "0  22nd September 2014         Austria  \n",
       "1  22nd September 2014           Egypt  \n",
       "2  22nd September 2014  United Kingdom  \n",
       "3  22nd September 2014  United Kingdom  \n",
       "4  18th September 2014  United Kingdom  "
      ]
     },
     "execution_count": 4,
     "metadata": {},
     "output_type": "execute_result"
    }
   ],
   "source": [
    "df.head()"
   ]
  },
  {
   "cell_type": "markdown",
   "metadata": {},
   "source": [
    "I will then be creating a column which mentions if the user is verified or not"
   ]
  },
  {
   "cell_type": "code",
   "execution_count": 5,
   "metadata": {},
   "outputs": [],
   "source": [
    "df['verified'] = df.reviews.str.contains(\"Trip Verified\")"
   ]
  },
  {
   "cell_type": "code",
   "execution_count": 6,
   "metadata": {},
   "outputs": [
    {
     "data": {
      "text/plain": [
       "0     False\n",
       "1     False\n",
       "2     False\n",
       "3     False\n",
       "4     False\n",
       "      ...  \n",
       "95    False\n",
       "96    False\n",
       "97    False\n",
       "98    False\n",
       "99    False\n",
       "Name: verified, Length: 100, dtype: bool"
      ]
     },
     "execution_count": 6,
     "metadata": {},
     "output_type": "execute_result"
    }
   ],
   "source": [
    "df['verified']\n"
   ]
  },
  {
   "cell_type": "markdown",
   "metadata": {},
   "source": [
    "Cleaning Reviews"
   ]
  },
  {
   "cell_type": "markdown",
   "metadata": {},
   "source": [
    "I will then move on to extract the column of reviews into a separate dataframe and clean it for semantic analysis"
   ]
  },
  {
   "cell_type": "code",
   "execution_count": 14,
   "metadata": {},
   "outputs": [
    {
     "name": "stderr",
     "output_type": "stream",
     "text": [
      "[nltk_data] Downloading package stopwords to\n",
      "[nltk_data]     /home/esselkobby/nltk_data...\n",
      "[nltk_data]   Package stopwords is already up-to-date!\n",
      "[nltk_data] Downloading package wordnet to\n",
      "[nltk_data]     /home/esselkobby/nltk_data...\n",
      "[nltk_data]   Package wordnet is already up-to-date!\n",
      "/tmp/ipykernel_46821/852727407.py:21: SettingWithCopyWarning: \n",
      "A value is trying to be set on a copy of a slice from a DataFrame.\n",
      "Try using .loc[row_indexer,col_indexer] = value instead\n",
      "\n",
      "See the caveats in the documentation: https://pandas.pydata.org/pandas-docs/stable/user_guide/indexing.html#returning-a-view-versus-a-copy\n",
      "  reviews_df['cleaned_reviews'] = reviews_df['reviews'].str.strip(\"✅ Trip Verified |\")\n",
      "/tmp/ipykernel_46821/852727407.py:32: SettingWithCopyWarning: \n",
      "A value is trying to be set on a copy of a slice from a DataFrame.\n",
      "Try using .loc[row_indexer,col_indexer] = value instead\n",
      "\n",
      "See the caveats in the documentation: https://pandas.pydata.org/pandas-docs/stable/user_guide/indexing.html#returning-a-view-versus-a-copy\n",
      "  reviews_df['cleaned_reviews'] = corpus\n",
      "/tmp/ipykernel_46821/852727407.py:40: SettingWithCopyWarning: \n",
      "A value is trying to be set on a copy of a slice from a DataFrame.\n",
      "Try using .loc[row_indexer,col_indexer] = value instead\n",
      "\n",
      "See the caveats in the documentation: https://pandas.pydata.org/pandas-docs/stable/user_guide/indexing.html#returning-a-view-versus-a-copy\n",
      "  reviews_df['word_count'] = reviews_df['cleaned_reviews'].apply(lambda x: len(x.split()))\n"
     ]
    }
   ],
   "source": [
    "import pandas as pd\n",
    "import re\n",
    "from nltk.stem import WordNetLemmatizer\n",
    "from nltk.corpus import stopwords\n",
    "\n",
    "# Import NLTK and download necessary data\n",
    "import nltk\n",
    "nltk.download('stopwords')\n",
    "nltk.download('wordnet')\n",
    "\n",
    "# Initialize the WordNet Lemmatizer\n",
    "lemma = WordNetLemmatizer()\n",
    "\n",
    "# Read the original DataFrame from a CSV file\n",
    "df = pd.read_csv(\"./BA_reviews.csv\") \n",
    "# 1. Extract the 'reviews' column into a separate DataFrame\n",
    "reviews_df = df[['reviews']]\n",
    "\n",
    "# 2. Data cleaning and preprocessing\n",
    "reviews_df['cleaned_reviews'] = reviews_df['reviews'].str.strip(\"✅ Trip Verified |\")\n",
    "corpus = []\n",
    "\n",
    "for review in reviews_df['cleaned_reviews']:\n",
    "    review = re.sub('[^a-zA-Z]', ' ', review)\n",
    "    review = review.lower()\n",
    "    review = review.split()\n",
    "    review = [lemma.lemmatize(word) for word in review if word not in set(stopwords.words(\"english\"))]\n",
    "    review = \" \".join(review)\n",
    "    corpus.append(review)\n",
    "\n",
    "reviews_df['cleaned_reviews'] = corpus\n",
    "\n",
    "# At this point, 'reviews_df' contains the cleaned reviews in the 'cleaned_reviews' column.\n",
    "\n",
    "# 3. Perform semantic analysis or any other text analysis as needed.\n",
    "# You can use libraries like NLTK, spaCy, or others for further analysis.\n",
    "\n",
    "# Example: Count the number of words in each cleaned review\n",
    "reviews_df['word_count'] = reviews_df['cleaned_reviews'].apply(lambda x: len(x.split()))\n",
    "\n",
    "# Continue with your text analysis or modeling as required.\n"
   ]
  },
  {
   "cell_type": "code",
   "execution_count": 16,
   "metadata": {},
   "outputs": [],
   "source": [
    "# add the corpus to the original dataframe\n",
    "\n",
    "df['corpus'] = corpus"
   ]
  },
  {
   "cell_type": "code",
   "execution_count": 17,
   "metadata": {},
   "outputs": [
    {
     "data": {
      "text/html": [
       "<div>\n",
       "<style scoped>\n",
       "    .dataframe tbody tr th:only-of-type {\n",
       "        vertical-align: middle;\n",
       "    }\n",
       "\n",
       "    .dataframe tbody tr th {\n",
       "        vertical-align: top;\n",
       "    }\n",
       "\n",
       "    .dataframe thead th {\n",
       "        text-align: right;\n",
       "    }\n",
       "</style>\n",
       "<table border=\"1\" class=\"dataframe\">\n",
       "  <thead>\n",
       "    <tr style=\"text-align: right;\">\n",
       "      <th></th>\n",
       "      <th>Unnamed: 0</th>\n",
       "      <th>reviews</th>\n",
       "      <th>stars</th>\n",
       "      <th>date</th>\n",
       "      <th>country</th>\n",
       "      <th>corpus</th>\n",
       "    </tr>\n",
       "  </thead>\n",
       "  <tbody>\n",
       "    <tr>\n",
       "      <th>0</th>\n",
       "      <td>0</td>\n",
       "      <td>LHR to PHL on 787 online check in worked well ...</td>\n",
       "      <td>5.0</td>\n",
       "      <td>22nd September 2014</td>\n",
       "      <td>Austria</td>\n",
       "      <td>lhr phl online check worked well first class l...</td>\n",
       "    </tr>\n",
       "    <tr>\n",
       "      <th>1</th>\n",
       "      <td>1</td>\n",
       "      <td>BHD-LHR. I flew BA from Belfast George Best Ai...</td>\n",
       "      <td>7.0</td>\n",
       "      <td>22nd September 2014</td>\n",
       "      <td>Egypt</td>\n",
       "      <td>bhd lhr flew ba belfast george best airport lo...</td>\n",
       "    </tr>\n",
       "    <tr>\n",
       "      <th>2</th>\n",
       "      <td>2</td>\n",
       "      <td>Considering our outbound flight to Orlando was...</td>\n",
       "      <td>9.0</td>\n",
       "      <td>22nd September 2014</td>\n",
       "      <td>United Kingdom</td>\n",
       "      <td>considering outbound flight orlando delayed go...</td>\n",
       "    </tr>\n",
       "    <tr>\n",
       "      <th>3</th>\n",
       "      <td>3</td>\n",
       "      <td>LHR-SIN in Economy. Very relaxed and prompt ch...</td>\n",
       "      <td>1.0</td>\n",
       "      <td>22nd September 2014</td>\n",
       "      <td>United Kingdom</td>\n",
       "      <td>lhr sin economy relaxed prompt check good atte...</td>\n",
       "    </tr>\n",
       "    <tr>\n",
       "      <th>4</th>\n",
       "      <td>4</td>\n",
       "      <td>LHR-LIS in Club Europe (on Avios). Easy check-...</td>\n",
       "      <td>8.0</td>\n",
       "      <td>18th September 2014</td>\n",
       "      <td>United Kingdom</td>\n",
       "      <td>lhr li club europe avios easy check security b...</td>\n",
       "    </tr>\n",
       "  </tbody>\n",
       "</table>\n",
       "</div>"
      ],
      "text/plain": [
       "   Unnamed: 0                                            reviews  stars  \\\n",
       "0           0  LHR to PHL on 787 online check in worked well ...    5.0   \n",
       "1           1  BHD-LHR. I flew BA from Belfast George Best Ai...    7.0   \n",
       "2           2  Considering our outbound flight to Orlando was...    9.0   \n",
       "3           3  LHR-SIN in Economy. Very relaxed and prompt ch...    1.0   \n",
       "4           4  LHR-LIS in Club Europe (on Avios). Easy check-...    8.0   \n",
       "\n",
       "                  date         country  \\\n",
       "0  22nd September 2014         Austria   \n",
       "1  22nd September 2014           Egypt   \n",
       "2  22nd September 2014  United Kingdom   \n",
       "3  22nd September 2014  United Kingdom   \n",
       "4  18th September 2014  United Kingdom   \n",
       "\n",
       "                                              corpus  \n",
       "0  lhr phl online check worked well first class l...  \n",
       "1  bhd lhr flew ba belfast george best airport lo...  \n",
       "2  considering outbound flight orlando delayed go...  \n",
       "3  lhr sin economy relaxed prompt check good atte...  \n",
       "4  lhr li club europe avios easy check security b...  "
      ]
     },
     "execution_count": 17,
     "metadata": {},
     "output_type": "execute_result"
    }
   ],
   "source": [
    "\n",
    "df.head()"
   ]
  },
  {
   "cell_type": "markdown",
   "metadata": {},
   "source": [
    "Cleaning/Format Date"
   ]
  },
  {
   "cell_type": "code",
   "execution_count": 19,
   "metadata": {},
   "outputs": [
    {
     "data": {
      "text/plain": [
       "Unnamed: 0      int64\n",
       "reviews        object\n",
       "stars         float64\n",
       "date           object\n",
       "country        object\n",
       "corpus         object\n",
       "dtype: object"
      ]
     },
     "execution_count": 19,
     "metadata": {},
     "output_type": "execute_result"
    }
   ],
   "source": [
    "df.dtypes"
   ]
  },
  {
   "cell_type": "code",
   "execution_count": 24,
   "metadata": {},
   "outputs": [
    {
     "ename": "ValueError",
     "evalue": "time data \"18th September 2014\" doesn't match format \"%dnd %B %Y\", at position 1. You might want to try:\n    - passing `format` if your strings have a consistent format;\n    - passing `format='ISO8601'` if your strings are all ISO8601 but not necessarily in exactly the same format;\n    - passing `format='mixed'`, and the format will be inferred for each element individually. You might want to use `dayfirst` alongside this.",
     "output_type": "error",
     "traceback": [
      "\u001b[0;31m---------------------------------------------------------------------------\u001b[0m",
      "\u001b[0;31mValueError\u001b[0m                                Traceback (most recent call last)",
      "\u001b[1;32m/home/esselkobby/Desktop/Python/BADataScienceIntern/Data Cleaning/Data Cleaning.ipynb Cell 15\u001b[0m line \u001b[0;36m3\n\u001b[1;32m      <a href='vscode-notebook-cell:/home/esselkobby/Desktop/Python/BADataScienceIntern/Data%20Cleaning/Data%20Cleaning.ipynb#X25sZmlsZQ%3D%3D?line=0'>1</a>\u001b[0m \u001b[39m# convert the date to datetime format\u001b[39;00m\n\u001b[0;32m----> <a href='vscode-notebook-cell:/home/esselkobby/Desktop/Python/BADataScienceIntern/Data%20Cleaning/Data%20Cleaning.ipynb#X25sZmlsZQ%3D%3D?line=2'>3</a>\u001b[0m df\u001b[39m.\u001b[39mdate \u001b[39m=\u001b[39m pd\u001b[39m.\u001b[39;49mto_datetime(df\u001b[39m.\u001b[39;49mdate)\n",
      "File \u001b[0;32m~/anaconda3/lib/python3.11/site-packages/pandas/core/tools/datetimes.py:1046\u001b[0m, in \u001b[0;36mto_datetime\u001b[0;34m(arg, errors, dayfirst, yearfirst, utc, format, exact, unit, infer_datetime_format, origin, cache)\u001b[0m\n\u001b[1;32m   1044\u001b[0m             result \u001b[39m=\u001b[39m arg\u001b[39m.\u001b[39mtz_localize(\u001b[39m\"\u001b[39m\u001b[39mutc\u001b[39m\u001b[39m\"\u001b[39m)\n\u001b[1;32m   1045\u001b[0m \u001b[39melif\u001b[39;00m \u001b[39misinstance\u001b[39m(arg, ABCSeries):\n\u001b[0;32m-> 1046\u001b[0m     cache_array \u001b[39m=\u001b[39m _maybe_cache(arg, \u001b[39mformat\u001b[39;49m, cache, convert_listlike)\n\u001b[1;32m   1047\u001b[0m     \u001b[39mif\u001b[39;00m \u001b[39mnot\u001b[39;00m cache_array\u001b[39m.\u001b[39mempty:\n\u001b[1;32m   1048\u001b[0m         result \u001b[39m=\u001b[39m arg\u001b[39m.\u001b[39mmap(cache_array)\n",
      "File \u001b[0;32m~/anaconda3/lib/python3.11/site-packages/pandas/core/tools/datetimes.py:250\u001b[0m, in \u001b[0;36m_maybe_cache\u001b[0;34m(arg, format, cache, convert_listlike)\u001b[0m\n\u001b[1;32m    248\u001b[0m unique_dates \u001b[39m=\u001b[39m unique(arg)\n\u001b[1;32m    249\u001b[0m \u001b[39mif\u001b[39;00m \u001b[39mlen\u001b[39m(unique_dates) \u001b[39m<\u001b[39m \u001b[39mlen\u001b[39m(arg):\n\u001b[0;32m--> 250\u001b[0m     cache_dates \u001b[39m=\u001b[39m convert_listlike(unique_dates, \u001b[39mformat\u001b[39;49m)\n\u001b[1;32m    251\u001b[0m     \u001b[39m# GH#45319\u001b[39;00m\n\u001b[1;32m    252\u001b[0m     \u001b[39mtry\u001b[39;00m:\n",
      "File \u001b[0;32m~/anaconda3/lib/python3.11/site-packages/pandas/core/tools/datetimes.py:453\u001b[0m, in \u001b[0;36m_convert_listlike_datetimes\u001b[0;34m(arg, format, name, utc, unit, errors, dayfirst, yearfirst, exact)\u001b[0m\n\u001b[1;32m    451\u001b[0m \u001b[39m# `format` could be inferred, or user didn't ask for mixed-format parsing.\u001b[39;00m\n\u001b[1;32m    452\u001b[0m \u001b[39mif\u001b[39;00m \u001b[39mformat\u001b[39m \u001b[39mis\u001b[39;00m \u001b[39mnot\u001b[39;00m \u001b[39mNone\u001b[39;00m \u001b[39mand\u001b[39;00m \u001b[39mformat\u001b[39m \u001b[39m!=\u001b[39m \u001b[39m\"\u001b[39m\u001b[39mmixed\u001b[39m\u001b[39m\"\u001b[39m:\n\u001b[0;32m--> 453\u001b[0m     \u001b[39mreturn\u001b[39;00m _array_strptime_with_fallback(arg, name, utc, \u001b[39mformat\u001b[39;49m, exact, errors)\n\u001b[1;32m    455\u001b[0m result, tz_parsed \u001b[39m=\u001b[39m objects_to_datetime64ns(\n\u001b[1;32m    456\u001b[0m     arg,\n\u001b[1;32m    457\u001b[0m     dayfirst\u001b[39m=\u001b[39mdayfirst,\n\u001b[0;32m   (...)\u001b[0m\n\u001b[1;32m    461\u001b[0m     allow_object\u001b[39m=\u001b[39m\u001b[39mTrue\u001b[39;00m,\n\u001b[1;32m    462\u001b[0m )\n\u001b[1;32m    464\u001b[0m \u001b[39mif\u001b[39;00m tz_parsed \u001b[39mis\u001b[39;00m \u001b[39mnot\u001b[39;00m \u001b[39mNone\u001b[39;00m:\n\u001b[1;32m    465\u001b[0m     \u001b[39m# We can take a shortcut since the datetime64 numpy array\u001b[39;00m\n\u001b[1;32m    466\u001b[0m     \u001b[39m# is in UTC\u001b[39;00m\n",
      "File \u001b[0;32m~/anaconda3/lib/python3.11/site-packages/pandas/core/tools/datetimes.py:484\u001b[0m, in \u001b[0;36m_array_strptime_with_fallback\u001b[0;34m(arg, name, utc, fmt, exact, errors)\u001b[0m\n\u001b[1;32m    473\u001b[0m \u001b[39mdef\u001b[39;00m \u001b[39m_array_strptime_with_fallback\u001b[39m(\n\u001b[1;32m    474\u001b[0m     arg,\n\u001b[1;32m    475\u001b[0m     name,\n\u001b[0;32m   (...)\u001b[0m\n\u001b[1;32m    479\u001b[0m     errors: \u001b[39mstr\u001b[39m,\n\u001b[1;32m    480\u001b[0m ) \u001b[39m-\u001b[39m\u001b[39m>\u001b[39m Index:\n\u001b[1;32m    481\u001b[0m \u001b[39m    \u001b[39m\u001b[39m\"\"\"\u001b[39;00m\n\u001b[1;32m    482\u001b[0m \u001b[39m    Call array_strptime, with fallback behavior depending on 'errors'.\u001b[39;00m\n\u001b[1;32m    483\u001b[0m \u001b[39m    \"\"\"\u001b[39;00m\n\u001b[0;32m--> 484\u001b[0m     result, timezones \u001b[39m=\u001b[39m array_strptime(arg, fmt, exact\u001b[39m=\u001b[39;49mexact, errors\u001b[39m=\u001b[39;49merrors, utc\u001b[39m=\u001b[39;49mutc)\n\u001b[1;32m    485\u001b[0m     \u001b[39mif\u001b[39;00m \u001b[39many\u001b[39m(tz \u001b[39mis\u001b[39;00m \u001b[39mnot\u001b[39;00m \u001b[39mNone\u001b[39;00m \u001b[39mfor\u001b[39;00m tz \u001b[39min\u001b[39;00m timezones):\n\u001b[1;32m    486\u001b[0m         \u001b[39mreturn\u001b[39;00m _return_parsed_timezone_results(result, timezones, utc, name)\n",
      "File \u001b[0;32m~/anaconda3/lib/python3.11/site-packages/pandas/_libs/tslibs/strptime.pyx:530\u001b[0m, in \u001b[0;36mpandas._libs.tslibs.strptime.array_strptime\u001b[0;34m()\u001b[0m\n",
      "File \u001b[0;32m~/anaconda3/lib/python3.11/site-packages/pandas/_libs/tslibs/strptime.pyx:351\u001b[0m, in \u001b[0;36mpandas._libs.tslibs.strptime.array_strptime\u001b[0;34m()\u001b[0m\n",
      "\u001b[0;31mValueError\u001b[0m: time data \"18th September 2014\" doesn't match format \"%dnd %B %Y\", at position 1. You might want to try:\n    - passing `format` if your strings have a consistent format;\n    - passing `format='ISO8601'` if your strings are all ISO8601 but not necessarily in exactly the same format;\n    - passing `format='mixed'`, and the format will be inferred for each element individually. You might want to use `dayfirst` alongside this."
     ]
    }
   ],
   "source": [
    "# convert the date to datetime format\n",
    "\n",
    "df.date = pd.to_datetime(df.date)"
   ]
  },
  {
   "cell_type": "code",
   "execution_count": 21,
   "metadata": {},
   "outputs": [
    {
     "data": {
      "text/plain": [
       "0    22nd September 2014\n",
       "1    22nd September 2014\n",
       "2    22nd September 2014\n",
       "3    22nd September 2014\n",
       "4    18th September 2014\n",
       "Name: date, dtype: object"
      ]
     },
     "execution_count": 21,
     "metadata": {},
     "output_type": "execute_result"
    }
   ],
   "source": [
    "df.date.head()"
   ]
  },
  {
   "cell_type": "markdown",
   "metadata": {},
   "source": [
    "Cleaning ratings with stars"
   ]
  },
  {
   "cell_type": "code",
   "execution_count": 25,
   "metadata": {},
   "outputs": [
    {
     "data": {
      "text/plain": [
       "array([ 5.,  7.,  9.,  1.,  8.,  2., 10.,  4.,  6.,  3., nan])"
      ]
     },
     "execution_count": 25,
     "metadata": {},
     "output_type": "execute_result"
    }
   ],
   "source": [
    "#check for unique values\n",
    "df.stars.unique()"
   ]
  },
  {
   "cell_type": "code",
   "execution_count": 27,
   "metadata": {},
   "outputs": [
    {
     "data": {
      "text/plain": [
       "stars\n",
       "1.0     18\n",
       "7.0     13\n",
       "9.0     13\n",
       "8.0     13\n",
       "10.0    12\n",
       "5.0      7\n",
       "2.0      6\n",
       "4.0      6\n",
       "3.0      6\n",
       "6.0      5\n",
       "Name: count, dtype: int64"
      ]
     },
     "execution_count": 27,
     "metadata": {},
     "output_type": "execute_result"
    }
   ],
   "source": [
    "\n",
    "df.stars.value_counts()"
   ]
  },
  {
   "cell_type": "code",
   "execution_count": 28,
   "metadata": {},
   "outputs": [],
   "source": [
    "\n",
    "\n",
    "# drop the rows where the value of ratings is None\n",
    "df.drop(df[df.stars == \"None\"].index, axis=0, inplace=True)\n",
    "\n"
   ]
  },
  {
   "cell_type": "code",
   "execution_count": 29,
   "metadata": {},
   "outputs": [
    {
     "data": {
      "text/plain": [
       "array([ 5.,  7.,  9.,  1.,  8.,  2., 10.,  4.,  6.,  3., nan])"
      ]
     },
     "execution_count": 29,
     "metadata": {},
     "output_type": "execute_result"
    }
   ],
   "source": [
    "\n",
    "\n",
    "#check the unique values again\n",
    "df.stars.unique()\n",
    "\n"
   ]
  },
  {
   "cell_type": "markdown",
   "metadata": {},
   "source": [
    "Checking for null Values"
   ]
  },
  {
   "cell_type": "code",
   "execution_count": 30,
   "metadata": {},
   "outputs": [
    {
     "data": {
      "text/plain": [
       "Unnamed: 0  reviews  stars  date   country  corpus\n",
       "False       False    False  False  False    False     99\n",
       "                     True   False  False    False      1\n",
       "Name: count, dtype: int64"
      ]
     },
     "execution_count": 30,
     "metadata": {},
     "output_type": "execute_result"
    }
   ],
   "source": [
    "\n",
    "\n",
    "df.isnull().value_counts()\n",
    "\n"
   ]
  },
  {
   "cell_type": "code",
   "execution_count": 31,
   "metadata": {},
   "outputs": [
    {
     "data": {
      "text/plain": [
       "country\n",
       "False    100\n",
       "Name: count, dtype: int64"
      ]
     },
     "execution_count": 31,
     "metadata": {},
     "output_type": "execute_result"
    }
   ],
   "source": [
    "\n",
    "df.country.isnull().value_counts()\n"
   ]
  },
  {
   "cell_type": "code",
   "execution_count": 32,
   "metadata": {},
   "outputs": [],
   "source": [
    "#drop the rows using index where the country value is null\n",
    "df.drop(df[df.country.isnull() == True].index, axis=0, inplace=True)\n"
   ]
  },
  {
   "cell_type": "code",
   "execution_count": 33,
   "metadata": {},
   "outputs": [
    {
     "data": {
      "text/plain": [
       "(100, 6)"
      ]
     },
     "execution_count": 33,
     "metadata": {},
     "output_type": "execute_result"
    }
   ],
   "source": [
    "df.shape"
   ]
  },
  {
   "cell_type": "code",
   "execution_count": 34,
   "metadata": {},
   "outputs": [
    {
     "data": {
      "text/html": [
       "<div>\n",
       "<style scoped>\n",
       "    .dataframe tbody tr th:only-of-type {\n",
       "        vertical-align: middle;\n",
       "    }\n",
       "\n",
       "    .dataframe tbody tr th {\n",
       "        vertical-align: top;\n",
       "    }\n",
       "\n",
       "    .dataframe thead th {\n",
       "        text-align: right;\n",
       "    }\n",
       "</style>\n",
       "<table border=\"1\" class=\"dataframe\">\n",
       "  <thead>\n",
       "    <tr style=\"text-align: right;\">\n",
       "      <th></th>\n",
       "      <th>Unnamed: 0</th>\n",
       "      <th>reviews</th>\n",
       "      <th>stars</th>\n",
       "      <th>date</th>\n",
       "      <th>country</th>\n",
       "      <th>corpus</th>\n",
       "    </tr>\n",
       "  </thead>\n",
       "  <tbody>\n",
       "    <tr>\n",
       "      <th>0</th>\n",
       "      <td>0</td>\n",
       "      <td>LHR to PHL on 787 online check in worked well ...</td>\n",
       "      <td>5.0</td>\n",
       "      <td>22nd September 2014</td>\n",
       "      <td>Austria</td>\n",
       "      <td>lhr phl online check worked well first class l...</td>\n",
       "    </tr>\n",
       "    <tr>\n",
       "      <th>1</th>\n",
       "      <td>1</td>\n",
       "      <td>BHD-LHR. I flew BA from Belfast George Best Ai...</td>\n",
       "      <td>7.0</td>\n",
       "      <td>22nd September 2014</td>\n",
       "      <td>Egypt</td>\n",
       "      <td>bhd lhr flew ba belfast george best airport lo...</td>\n",
       "    </tr>\n",
       "    <tr>\n",
       "      <th>2</th>\n",
       "      <td>2</td>\n",
       "      <td>Considering our outbound flight to Orlando was...</td>\n",
       "      <td>9.0</td>\n",
       "      <td>22nd September 2014</td>\n",
       "      <td>United Kingdom</td>\n",
       "      <td>considering outbound flight orlando delayed go...</td>\n",
       "    </tr>\n",
       "    <tr>\n",
       "      <th>3</th>\n",
       "      <td>3</td>\n",
       "      <td>LHR-SIN in Economy. Very relaxed and prompt ch...</td>\n",
       "      <td>1.0</td>\n",
       "      <td>22nd September 2014</td>\n",
       "      <td>United Kingdom</td>\n",
       "      <td>lhr sin economy relaxed prompt check good atte...</td>\n",
       "    </tr>\n",
       "    <tr>\n",
       "      <th>4</th>\n",
       "      <td>4</td>\n",
       "      <td>LHR-LIS in Club Europe (on Avios). Easy check-...</td>\n",
       "      <td>8.0</td>\n",
       "      <td>18th September 2014</td>\n",
       "      <td>United Kingdom</td>\n",
       "      <td>lhr li club europe avios easy check security b...</td>\n",
       "    </tr>\n",
       "    <tr>\n",
       "      <th>...</th>\n",
       "      <td>...</td>\n",
       "      <td>...</td>\n",
       "      <td>...</td>\n",
       "      <td>...</td>\n",
       "      <td>...</td>\n",
       "      <td>...</td>\n",
       "    </tr>\n",
       "    <tr>\n",
       "      <th>95</th>\n",
       "      <td>95</td>\n",
       "      <td>LHR-CPH-LHR Business Class. This is a joke. Sc...</td>\n",
       "      <td>4.0</td>\n",
       "      <td>31st July 2014</td>\n",
       "      <td>United Kingdom</td>\n",
       "      <td>lhr cph lhr business class joke scruffy aircra...</td>\n",
       "    </tr>\n",
       "    <tr>\n",
       "      <th>96</th>\n",
       "      <td>96</td>\n",
       "      <td>LHR-CDG-LHR. Outbound A320 on 26/7 return A319...</td>\n",
       "      <td>NaN</td>\n",
       "      <td>31st July 2014</td>\n",
       "      <td>United Kingdom</td>\n",
       "      <td>lhr cdg lhr outbound return euro traveller fli...</td>\n",
       "    </tr>\n",
       "    <tr>\n",
       "      <th>97</th>\n",
       "      <td>97</td>\n",
       "      <td>Toronto to London in WTP on a 787 and London t...</td>\n",
       "      <td>7.0</td>\n",
       "      <td>31st July 2014</td>\n",
       "      <td>Canada</td>\n",
       "      <td>oronto london wtp london toronto club world el...</td>\n",
       "    </tr>\n",
       "    <tr>\n",
       "      <th>98</th>\n",
       "      <td>98</td>\n",
       "      <td>12/2013. LHR-LAX. A380. Aircraft was clean. Se...</td>\n",
       "      <td>10.0</td>\n",
       "      <td>31st July 2014</td>\n",
       "      <td>Netherlands</td>\n",
       "      <td>lhr lax aircraft clean seat comfortable leg sp...</td>\n",
       "    </tr>\n",
       "    <tr>\n",
       "      <th>99</th>\n",
       "      <td>99</td>\n",
       "      <td>I have used BA over the past 20 years as I cho...</td>\n",
       "      <td>5.0</td>\n",
       "      <td>29th July 2014</td>\n",
       "      <td>Canada</td>\n",
       "      <td>used ba past year chose move airmiles plan reg...</td>\n",
       "    </tr>\n",
       "  </tbody>\n",
       "</table>\n",
       "<p>100 rows × 6 columns</p>\n",
       "</div>"
      ],
      "text/plain": [
       "    Unnamed: 0                                            reviews  stars  \\\n",
       "0            0  LHR to PHL on 787 online check in worked well ...    5.0   \n",
       "1            1  BHD-LHR. I flew BA from Belfast George Best Ai...    7.0   \n",
       "2            2  Considering our outbound flight to Orlando was...    9.0   \n",
       "3            3  LHR-SIN in Economy. Very relaxed and prompt ch...    1.0   \n",
       "4            4  LHR-LIS in Club Europe (on Avios). Easy check-...    8.0   \n",
       "..         ...                                                ...    ...   \n",
       "95          95  LHR-CPH-LHR Business Class. This is a joke. Sc...    4.0   \n",
       "96          96  LHR-CDG-LHR. Outbound A320 on 26/7 return A319...    NaN   \n",
       "97          97  Toronto to London in WTP on a 787 and London t...    7.0   \n",
       "98          98  12/2013. LHR-LAX. A380. Aircraft was clean. Se...   10.0   \n",
       "99          99  I have used BA over the past 20 years as I cho...    5.0   \n",
       "\n",
       "                   date         country  \\\n",
       "0   22nd September 2014         Austria   \n",
       "1   22nd September 2014           Egypt   \n",
       "2   22nd September 2014  United Kingdom   \n",
       "3   22nd September 2014  United Kingdom   \n",
       "4   18th September 2014  United Kingdom   \n",
       "..                  ...             ...   \n",
       "95       31st July 2014  United Kingdom   \n",
       "96       31st July 2014  United Kingdom   \n",
       "97       31st July 2014          Canada   \n",
       "98       31st July 2014     Netherlands   \n",
       "99       29th July 2014          Canada   \n",
       "\n",
       "                                               corpus  \n",
       "0   lhr phl online check worked well first class l...  \n",
       "1   bhd lhr flew ba belfast george best airport lo...  \n",
       "2   considering outbound flight orlando delayed go...  \n",
       "3   lhr sin economy relaxed prompt check good atte...  \n",
       "4   lhr li club europe avios easy check security b...  \n",
       "..                                                ...  \n",
       "95  lhr cph lhr business class joke scruffy aircra...  \n",
       "96  lhr cdg lhr outbound return euro traveller fli...  \n",
       "97  oronto london wtp london toronto club world el...  \n",
       "98  lhr lax aircraft clean seat comfortable leg sp...  \n",
       "99  used ba past year chose move airmiles plan reg...  \n",
       "\n",
       "[100 rows x 6 columns]"
      ]
     },
     "execution_count": 34,
     "metadata": {},
     "output_type": "execute_result"
    }
   ],
   "source": [
    "#resetting the index\n",
    "df.reset_index(drop=True)"
   ]
  },
  {
   "cell_type": "markdown",
   "metadata": {},
   "source": [
    "I am glad to come to this point where our data is cleaned and now ready for data visualization and data analysis "
   ]
  },
  {
   "cell_type": "code",
   "execution_count": 16,
   "metadata": {},
   "outputs": [
    {
     "name": "stderr",
     "output_type": "stream",
     "text": [
      "[nltk_data] Downloading package stopwords to\n",
      "[nltk_data]     /home/esselkobby/nltk_data...\n",
      "[nltk_data]   Package stopwords is already up-to-date!\n",
      "[nltk_data] Downloading package wordnet to\n",
      "[nltk_data]     /home/esselkobby/nltk_data...\n",
      "[nltk_data]   Package wordnet is already up-to-date!\n"
     ]
    }
   ],
   "source": [
    "import pandas as pd\n",
    "import re\n",
    "from nltk.stem import WordNetLemmatizer\n",
    "from nltk.corpus import stopwords\n",
    "\n",
    "# Import NLTK and download necessary data\n",
    "import nltk\n",
    "nltk.download('stopwords')\n",
    "nltk.download('wordnet')\n",
    "\n",
    "# Initialize the WordNet Lemmatizer\n",
    "lemma = WordNetLemmatizer()\n",
    "\n",
    "# Read the original DataFrame from a CSV file\n",
    "df = pd.read_csv(\"./BA_reviews.csv\")  \n",
    "# Perform data cleaning and preprocessing here\n",
    "\n",
    "# Export the cleaned DataFrame to a CSV file\n",
    "relative_export_path = \"cleaned-BA-reviews.csv\"\n",
    "df.to_csv(relative_export_path)\n"
   ]
  }
 ],
 "metadata": {
  "kernelspec": {
   "display_name": "base",
   "language": "python",
   "name": "python3"
  },
  "language_info": {
   "codemirror_mode": {
    "name": "ipython",
    "version": 3
   },
   "file_extension": ".py",
   "mimetype": "text/x-python",
   "name": "python",
   "nbconvert_exporter": "python",
   "pygments_lexer": "ipython3",
   "version": "3.11.5"
  }
 },
 "nbformat": 4,
 "nbformat_minor": 2
}
